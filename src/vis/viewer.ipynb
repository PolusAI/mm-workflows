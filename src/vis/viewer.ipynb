{
 "cells": [
  {
   "cell_type": "code",
   "execution_count": null,
   "metadata": {},
   "outputs": [],
   "source": [
    "from vis import viewer\n",
    "# Once the workflow has finished executing, you can view the output files.\n",
    "viewer.tree_viewer()"
   ]
  },
  {
   "cell_type": "code",
   "execution_count": null,
   "metadata": {},
   "outputs": [],
   "source": [
    "from vis import viewer\n",
    "# Alternatively, you can view the files in realtime while the workflow is executing.\n",
    "# This runs for about 10 mins before printing 'done'.\n",
    "# You can always re-run the cell and/or increase num_iterations.\n",
    "num_iterations = 60 * 10\n",
    "viewer.realtime_viewer(num_iterations)"
   ]
  }
 ],
 "metadata": {
  "kernelspec": {
   "display_name": "Python 3.10.6",
   "language": "python",
   "name": "python3"
  },
  "language_info": {
   "codemirror_mode": {
    "name": "ipython",
    "version": 3
   },
   "file_extension": ".py",
   "mimetype": "text/x-python",
   "name": "python",
   "nbconvert_exporter": "python",
   "pygments_lexer": "ipython3",
   "version": "3.10.6"
  },
  "vscode": {
   "interpreter": {
    "hash": "612ab4556636a7986aff5653e5d5ed5cb1e0c640daa830f0dae50b030d37dcd4"
   }
  }
 },
 "nbformat": 4,
 "nbformat_minor": 2
}
